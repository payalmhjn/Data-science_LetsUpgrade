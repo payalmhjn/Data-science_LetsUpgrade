{
 "cells": [
  {
   "cell_type": "markdown",
   "metadata": {},
   "source": [
    "# Assignment 3 by Payal Mahajan, Batch - 1, Data Science Essentials, LetsUpgrade"
   ]
  },
  {
   "cell_type": "markdown",
   "metadata": {},
   "source": [
    "# Ques 1: Create a numpy array starting from 2 till 50 with a stepsize of 3."
   ]
  },
  {
   "cell_type": "code",
   "execution_count": 2,
   "metadata": {},
   "outputs": [],
   "source": [
    "import numpy as np"
   ]
  },
  {
   "cell_type": "code",
   "execution_count": 4,
   "metadata": {},
   "outputs": [
    {
     "data": {
      "text/plain": [
       "array([ 2,  5,  8, 11, 14, 17, 20, 23, 26, 29, 32, 35, 38, 41, 44, 47, 50])"
      ]
     },
     "execution_count": 4,
     "metadata": {},
     "output_type": "execute_result"
    }
   ],
   "source": [
    "np.arange(start=2, stop=51, step=3)"
   ]
  },
  {
   "cell_type": "markdown",
   "metadata": {},
   "source": [
    "# Ques 2: Accept two lists of 5 elements each from the user. Convert them to numpy arrays. Concatenate these arrays and print it. Also sort these arrays and print it."
   ]
  },
  {
   "cell_type": "code",
   "execution_count": 6,
   "metadata": {},
   "outputs": [
    {
     "name": "stdout",
     "output_type": "stream",
     "text": [
      "Enter a list of 5 elements 1 2 3 4 5\n",
      "Enter a list of 5 elements 6 7 8 9 99\n",
      "\n",
      "\n",
      "user list is  ['1', '2', '3', '4', '5']\n",
      "user list 2 is  ['6', '7', '8', '9', '99']\n",
      "\n",
      "\n",
      "After concatenation array is ['1' '2' '3' '4' '5' '6' '7' '8' '9' '99']\n",
      "\n",
      "\n",
      "After sorting, array becomes\n",
      "['1' '2' '3' '4' '5' '6' '7' '8' '9' '99']\n"
     ]
    }
   ],
   "source": [
    "\n",
    "l = input(\"Enter a list of 5 elements \")\n",
    "m = input(\"Enter a list of 5 elements \")\n",
    "print(\"\\n\")\n",
    "userList1 = l.split()\n",
    "print(\"user list is \", userList1)\n",
    "userlist2 = m.split()\n",
    "print(\"user list 2 is \", userlist2)\n",
    "array1 = np.array(userList1)\n",
    "array2 = np.array(userlist2)\n",
    "print(\"\\n\")\n",
    "arr = np.concatenate((array1, array2))\n",
    "print(\"After concatenation array is\", arr)\n",
    "print(\"\\n\")\n",
    "print(\"After sorting, array becomes\")\n",
    "print(np.sort(arr, axis = 0))"
   ]
  },
  {
   "cell_type": "markdown",
   "metadata": {},
   "source": [
    "# Ques 3: Write a code snippet to find the dimensions of a ndarray and its size."
   ]
  },
  {
   "cell_type": "code",
   "execution_count": 10,
   "metadata": {},
   "outputs": [
    {
     "name": "stdout",
     "output_type": "stream",
     "text": [
      "Dimension of 1D numpy array :  (8,)\n",
      "Size of array is 8\n"
     ]
    }
   ],
   "source": [
    "arr = np.array([4, 5, 6, 7, 8, 9, 10, 11])\n",
    "print('Dimension of 1D numpy array : ', arr.shape)\n",
    "arr1 = np.size(arr, axis=None)\n",
    "print(\"Size of array is\", arr1)"
   ]
  },
  {
   "cell_type": "markdown",
   "metadata": {},
   "source": [
    "# Ques 4: How to convert a 1D array into a 2D array? Demonstrate with the help of a code snippet        Hint: np.newaxis, np.expand_dims"
   ]
  },
  {
   "cell_type": "code",
   "execution_count": 14,
   "metadata": {},
   "outputs": [
    {
     "data": {
      "text/plain": [
       "(1, 6)"
      ]
     },
     "execution_count": 14,
     "metadata": {},
     "output_type": "execute_result"
    }
   ],
   "source": [
    "a = np.array([1, 2, 3, 4, 5, 6])\n",
    "a.shape\n",
    "a2 = a[np.newaxis, :]\n",
    "a2.shape"
   ]
  },
  {
   "cell_type": "code",
   "execution_count": 15,
   "metadata": {},
   "outputs": [
    {
     "data": {
      "text/plain": [
       "(6, 1)"
      ]
     },
     "execution_count": 15,
     "metadata": {},
     "output_type": "execute_result"
    }
   ],
   "source": [
    "b = np.expand_dims(a, axis=1)\n",
    "b.shape"
   ]
  },
  {
   "cell_type": "markdown",
   "metadata": {},
   "source": [
    "# Ques 5: Consider two square numpy arrays. Stack them vertically and horizontally. Hint: Use vstack(), hstack()"
   ]
  },
  {
   "cell_type": "code",
   "execution_count": 17,
   "metadata": {},
   "outputs": [
    {
     "name": "stdout",
     "output_type": "stream",
     "text": [
      "Vertical Append: \n",
      " [[1 2 3 7]\n",
      " [4 5 6 8]]\n",
      "Horizontal Append [1 2 3 7 4 5 6 8]\n"
     ]
    }
   ],
   "source": [
    "f = np.array([1,2,3,7])\n",
    "g = np.array([4,5,6,8])\n",
    "print('Vertical Append: \\n', np.vstack((f, g)))\n",
    "hori = np.hstack((f,g)) \n",
    "print(\"Horizontal Append\", hori)"
   ]
  },
  {
   "cell_type": "markdown",
   "metadata": {},
   "source": [
    "# Ques 6: How to get unique items and counts of unique items?"
   ]
  },
  {
   "cell_type": "code",
   "execution_count": 22,
   "metadata": {},
   "outputs": [
    {
     "name": "stdout",
     "output_type": "stream",
     "text": [
      "Original array:\n",
      "[10 10 20 10 20 20 20 30 30 50 40 40]\n",
      "\n",
      " Counts of unique values of the array:\n",
      "[[10 20 30 40 50]\n",
      " [ 3  4  2  2  1]]\n"
     ]
    }
   ],
   "source": [
    "a = np.array( [10,10,20,10,20,20,20,30,30,50,40,40] )\n",
    "print(\"Original array:\")\n",
    "print(a)\n",
    "unique_elements, counts_elements = np.unique(a, return_counts=True)\n",
    "print(\"\\n Counts of unique values of the array:\")\n",
    "print(np.asarray((unique_elements, counts_elements)))"
   ]
  }
 ],
 "metadata": {
  "kernelspec": {
   "display_name": "Python 3",
   "language": "python",
   "name": "python3"
  }
 },
 "nbformat": 4,
 "nbformat_minor": 4
}
